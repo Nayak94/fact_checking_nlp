{
 "cells": [
  {
   "cell_type": "markdown",
   "metadata": {},
   "source": [
    "## Fact Verification using ML and NLP\n",
    "Created by :- Karan Nayak\n",
   
    "### Requirements:\n",
    "\n",
    "- Before proceeding, make sure you have a spacy v3.x installed and it's English language medium size model is installed(\"en_core_web_md\")\n",
    "\n",
    "- If not kindly refer here for installing [spacy](https://spacy.io/usage) and [language](https://spacy.io/models/en) models\n",
    "- Also the datasets api from HuggingFace should be installed from [here](https://huggingface.co/docs/datasets/installation.html) to download datasets."
   ]
  },
  {
   "cell_type": "markdown",
   "metadata": {},
   "source": [
    "**Importing** required libraries"
   ]
  },
  {
   "cell_type": "code",
   "execution_count": 918,
   "metadata": {},
   "outputs": [],
   "source": [
    "#Loading HuggingFace Datasets api\n",
    "\n",
    "from datasets import load_dataset\n",
    "\n",
    "#Loading required spacy package and apis\n",
    "\n",
    "import spacy\n",
    "from spacy.lang.en.stop_words import STOP_WORDS\n",
    "from spacy.tokens import Doc\n",
    "from spacy.util import minibatch\n",
    "from spacy.scorer import Scorer\n",
    "from spacy.training import Example\n",
    "\n",
    "#Loading required data manipulation libraries\n",
    "\n",
    "from sklearn.model_selection import train_test_split\n",
    "from sklearn.cluster import KMeans\n",
    "import pandas as pd\n",
    "import numpy as np\n",
    "import string\n",
    "import re\n",
    "import nltk\n",
    "\n",
    "#Loading Matplotlib for plotting\n",
    "\n",
    "import matplotlib.pyplot as plt\n",
    "\n",
    "#Setting pandas col_width option to view the texts properly\n",
    "\n",
    "pd.options.display.max_colwidth=100"
   ]
  },
  {
   "cell_type": "code",
   "execution_count": 919,
   "metadata": {},
   "outputs": [
    {
     "name": "stderr",
     "output_type": "stream",
     "text": [
      "Reusing dataset datacommons_factcheck (C:\\Users\\Utilisateur\\.cache\\huggingface\\datasets\\datacommons_factcheck\\fctchk_politifact_wapo\\1.0.0\\e3861c84c3e449fb0c316b75997e30bbf723e2ca7f33c668bda07b7436567b35)\n"
     ]
    },
    {
     "data": {
      "application/vnd.jupyter.widget-view+json": {
       "model_id": "2f3b0fa747db426a8a3bd14a70a66758",
       "version_major": 2,
       "version_minor": 0
      },
      "text/plain": [
       "  0%|          | 0/1 [00:00<?, ?it/s]"
      ]
     },
     "metadata": {},
     "output_type": "display_data"
    }
   ],
   "source": [
    "#Loading the dataset\n",
    "\n",
    "dataset = load_dataset(\"datacommons_factcheck\", \"fctchk_politifact_wapo\")"
   ]
  },
  {
   "cell_type": "code",
   "execution_count": 920,
   "metadata": {},
   "outputs": [],
   "source": [
    "#Converting the dataset to pandas df\n",
    "\n",
    "df = dataset['train'].to_pandas()"
   ]
  },
  {
   "cell_type": "code",
   "execution_count": 921,
   "metadata": {},
   "outputs": [
    {
     "data": {
      "text/plain": [
       "reviewer_name        0\n",
       "claim_text           0\n",
       "review_date          0\n",
       "review_url           0\n",
       "review_rating        0\n",
       "claim_author_name    0\n",
       "claim_date           0\n",
       "dtype: int64"
      ]
     },
     "execution_count": 921,
     "metadata": {},
     "output_type": "execute_result"
    }
   ],
   "source": [
    "#Checking for null values\n",
    "\n",
    "df.isnull().sum()"
   ]
  },
  {
   "cell_type": "markdown",
   "metadata": {},
   "source": [
    "**In** the \"review_rating\" column there are multiple labels(391). As we are going for binary approach, we need to segregate them into \"Fake\" and \"True\" labels."
   ]
  },
  {
   "cell_type": "code",
   "execution_count": 922,
   "metadata": {},
   "outputs": [
    {
     "data": {
      "text/plain": [
       "False                   1304\n",
       "Mostly False             671\n",
       "Pants on Fire            666\n",
       "Half True                645\n",
       "Mostly True              594\n",
       "                        ... \n",
       "Numbers check out          1\n",
       "Not likely that high       1\n",
       "No: Distorts Facts         1\n",
       "Needs full context         1\n",
       "Spinning the facts         1\n",
       "Name: review_rating, Length: 391, dtype: int64"
      ]
     },
     "execution_count": 922,
     "metadata": {},
     "output_type": "execute_result"
    }
   ],
   "source": [
    "df['review_rating'].value_counts()"
   ]
  },
  {
   "cell_type": "markdown",
   "metadata": {},
   "source": [
    "**There** are multiple approaches to segregate these labels under two main labels for text classification. \n",
    "\n",
    "- We can use the **_similarity attribute in spacy_** i.e. _doc1.similarity(doc2)_, which allows you to compare two docs(texts) and gives you a similarity score, finally you pick the one with higher score. So we can get similarity scores by comparing these labels with \"True\" and \"Fake\". Although, you can't do any tuning if the results are not as expected which was the case here. The labels generated using this approach were not satisfactory. \n",
    "\n",
    "- Another approach is, to look from the angle of clustering. We have some unlabelled texts and we want to cluster them under two labels. \"K-Means\"!!. The process will be as follows\n",
    "    - Remove the punctuations from texts. We won't remove stopwords becasue it can alter the meaning of labels like \"Not True\" to \"True\" or \"Not enough evidence\" to \"Enough evidence\" and they'll get clustered under the label \"True\".\n",
    "    - Apply the nlp spacy model on these text labels.\n",
    "    - Using the \"vector\" attribute of doc, get the vector representations of all text labels.\n",
    "    - Pass that as an input to the K-Means algorithm\n",
    "    - Here, you can tune the clusters untill you get satisfactory results. In this case, 8 clusters yielded optimal results.\n",
    "    - Finally, assign the labels \"False\" and \"True\" to the clusters depending on the texts categorized under those clusters."
   ]
  },
  {
   "cell_type": "code",
   "execution_count": 923,
   "metadata": {},
   "outputs": [],
   "source": [
    "#Load the english language medium model. \"md\" stands for medium vocab, we are not going with \"small\" becasue small model\n",
    "#does'nt support vector representations.\n",
    "\n",
    "nlp = spacy.load(\"en_core_web_md\")"
   ]
  },
  {
   "cell_type": "code",
   "execution_count": 924,
   "metadata": {},
   "outputs": [
    {
     "data": {
      "text/plain": [
       "('ner', <spacy.pipeline.ner.EntityRecognizer at 0x19046b713a0>)"
      ]
     },
     "execution_count": 924,
     "metadata": {},
     "output_type": "execute_result"
    }
   ],
   "source": [
    "#We won't using \"Dependency Parser\" and \"Entity Recognizer\" components in this project and pipeline, so removing it in\n",
    "#order to make the pipeline efficient and faster.\n",
    "\n",
    "nlp.remove_pipe(\"parser\")\n",
    "nlp.remove_pipe(\"ner\")"
   ]
  },
  {
   "cell_type": "code",
   "execution_count": 925,
   "metadata": {},
   "outputs": [],
   "source": [
    "#Define a function to remove the punctuations from the labels.\n",
    "\n",
    "def remove_punct(text):\n",
    "    t1 = \"\".join([word.lower() for word in text if word not in string.punctuation])\n",
    "    return t1"
   ]
  },
  {
   "cell_type": "code",
   "execution_count": 926,
   "metadata": {},
   "outputs": [
    {
     "data": {
      "text/plain": [
       "(5632, 300)"
      ]
     },
     "execution_count": 926,
     "metadata": {},
     "output_type": "execute_result"
    }
   ],
   "source": [
    "#Create a dataframe for labels from the main dataset.\n",
    "\n",
    "df_label = pd.DataFrame(df[\"review_rating\"],columns=[\"review_rating\"])\n",
    "\n",
    "#Remove the punctuations using the functions defined above.\n",
    "\n",
    "df_label[\"clean\"] = df_label[\"review_rating\"].apply(lambda x: remove_punct(x))\n",
    "\n",
    "#Apply the nlp object on the text labels. \n",
    "#IMPORTANT :- As we just need the vector representations from this object, we will\n",
    "#disable rest of the pipeline components to make it efficient and faster.\n",
    "#Advantage of disabling them using \"with\" is that they get restored after \"with\" ends.\n",
    "\n",
    "with nlp.disable_pipes(\"tagger\",\"attribute_ruler\",\"lemmatizer\"):\n",
    "    df_label[\"docs\"] = df_label[\"clean\"].apply(lambda x:nlp(x))  \n",
    "\n",
    "\n",
    "# Make the training data for labels using the vector attribute. Each vector is of dimension 300. \n",
    "\n",
    "X_train = np.array([doc.vector for doc in df_label.docs])\n",
    "X_train.shape"
   ]
  },
  {
   "cell_type": "code",
   "execution_count": 927,
   "metadata": {},
   "outputs": [
    {
     "data": {
      "text/html": [
       "<div>\n",
       "<style scoped>\n",
       "    .dataframe tbody tr th:only-of-type {\n",
       "        vertical-align: middle;\n",
       "    }\n",
       "\n",
       "    .dataframe tbody tr th {\n",
       "        vertical-align: top;\n",
       "    }\n",
       "\n",
       "    .dataframe thead th {\n",
       "        text-align: right;\n",
       "    }\n",
       "</style>\n",
       "<table border=\"1\" class=\"dataframe\">\n",
       "  <thead>\n",
       "    <tr style=\"text-align: right;\">\n",
       "      <th></th>\n",
       "      <th>review_rating</th>\n",
       "      <th>clean</th>\n",
       "      <th>docs</th>\n",
       "      <th>predicted_labels</th>\n",
       "    </tr>\n",
       "  </thead>\n",
       "  <tbody>\n",
       "    <tr>\n",
       "      <th>0</th>\n",
       "      <td>Pants on Fire</td>\n",
       "      <td>pants on fire</td>\n",
       "      <td>(pants, on, fire)</td>\n",
       "      <td>3</td>\n",
       "    </tr>\n",
       "    <tr>\n",
       "      <th>1</th>\n",
       "      <td>Half True</td>\n",
       "      <td>half true</td>\n",
       "      <td>(half, true)</td>\n",
       "      <td>4</td>\n",
       "    </tr>\n",
       "    <tr>\n",
       "      <th>2</th>\n",
       "      <td>Will military drills end?</td>\n",
       "      <td>will military drills end</td>\n",
       "      <td>(will, military, drills, end)</td>\n",
       "      <td>0</td>\n",
       "    </tr>\n",
       "    <tr>\n",
       "      <th>3</th>\n",
       "      <td>False</td>\n",
       "      <td>false</td>\n",
       "      <td>(false)</td>\n",
       "      <td>1</td>\n",
       "    </tr>\n",
       "    <tr>\n",
       "      <th>4</th>\n",
       "      <td>True</td>\n",
       "      <td>true</td>\n",
       "      <td>(true)</td>\n",
       "      <td>6</td>\n",
       "    </tr>\n",
       "    <tr>\n",
       "      <th>5</th>\n",
       "      <td>True</td>\n",
       "      <td>true</td>\n",
       "      <td>(true)</td>\n",
       "      <td>6</td>\n",
       "    </tr>\n",
       "    <tr>\n",
       "      <th>6</th>\n",
       "      <td>Mostly True</td>\n",
       "      <td>mostly true</td>\n",
       "      <td>(mostly, true)</td>\n",
       "      <td>2</td>\n",
       "    </tr>\n",
       "    <tr>\n",
       "      <th>7</th>\n",
       "      <td>Four Pinocchios</td>\n",
       "      <td>four pinocchios</td>\n",
       "      <td>(four, pinocchios)</td>\n",
       "      <td>0</td>\n",
       "    </tr>\n",
       "    <tr>\n",
       "      <th>8</th>\n",
       "      <td>Mostly True</td>\n",
       "      <td>mostly true</td>\n",
       "      <td>(mostly, true)</td>\n",
       "      <td>2</td>\n",
       "    </tr>\n",
       "    <tr>\n",
       "      <th>9</th>\n",
       "      <td>Multiple ways to evaluate</td>\n",
       "      <td>multiple ways to evaluate</td>\n",
       "      <td>(multiple, ways, to, evaluate)</td>\n",
       "      <td>0</td>\n",
       "    </tr>\n",
       "    <tr>\n",
       "      <th>10</th>\n",
       "      <td>Mostly entered before Obama</td>\n",
       "      <td>mostly entered before obama</td>\n",
       "      <td>(mostly, entered, before, obama)</td>\n",
       "      <td>0</td>\n",
       "    </tr>\n",
       "    <tr>\n",
       "      <th>11</th>\n",
       "      <td>Mostly False</td>\n",
       "      <td>mostly false</td>\n",
       "      <td>(mostly, false)</td>\n",
       "      <td>5</td>\n",
       "    </tr>\n",
       "    <tr>\n",
       "      <th>12</th>\n",
       "      <td>Mostly True</td>\n",
       "      <td>mostly true</td>\n",
       "      <td>(mostly, true)</td>\n",
       "      <td>2</td>\n",
       "    </tr>\n",
       "    <tr>\n",
       "      <th>13</th>\n",
       "      <td>Pants on Fire</td>\n",
       "      <td>pants on fire</td>\n",
       "      <td>(pants, on, fire)</td>\n",
       "      <td>3</td>\n",
       "    </tr>\n",
       "    <tr>\n",
       "      <th>14</th>\n",
       "      <td>Mostly True</td>\n",
       "      <td>mostly true</td>\n",
       "      <td>(mostly, true)</td>\n",
       "      <td>2</td>\n",
       "    </tr>\n",
       "    <tr>\n",
       "      <th>15</th>\n",
       "      <td>Mostly True</td>\n",
       "      <td>mostly true</td>\n",
       "      <td>(mostly, true)</td>\n",
       "      <td>2</td>\n",
       "    </tr>\n",
       "    <tr>\n",
       "      <th>16</th>\n",
       "      <td>Pants on Fire</td>\n",
       "      <td>pants on fire</td>\n",
       "      <td>(pants, on, fire)</td>\n",
       "      <td>3</td>\n",
       "    </tr>\n",
       "    <tr>\n",
       "      <th>17</th>\n",
       "      <td>True</td>\n",
       "      <td>true</td>\n",
       "      <td>(true)</td>\n",
       "      <td>6</td>\n",
       "    </tr>\n",
       "    <tr>\n",
       "      <th>18</th>\n",
       "      <td>Mostly False</td>\n",
       "      <td>mostly false</td>\n",
       "      <td>(mostly, false)</td>\n",
       "      <td>5</td>\n",
       "    </tr>\n",
       "    <tr>\n",
       "      <th>19</th>\n",
       "      <td>Pants on Fire</td>\n",
       "      <td>pants on fire</td>\n",
       "      <td>(pants, on, fire)</td>\n",
       "      <td>3</td>\n",
       "    </tr>\n",
       "  </tbody>\n",
       "</table>\n",
       "</div>"
      ],
      "text/plain": [
       "                  review_rating                        clean  \\\n",
       "0                 Pants on Fire                pants on fire   \n",
       "1                     Half True                    half true   \n",
       "2     Will military drills end?     will military drills end   \n",
       "3                         False                        false   \n",
       "4                          True                         true   \n",
       "5                          True                         true   \n",
       "6                   Mostly True                  mostly true   \n",
       "7               Four Pinocchios              four pinocchios   \n",
       "8                   Mostly True                  mostly true   \n",
       "9     Multiple ways to evaluate    multiple ways to evaluate   \n",
       "10  Mostly entered before Obama  mostly entered before obama   \n",
       "11                 Mostly False                 mostly false   \n",
       "12                  Mostly True                  mostly true   \n",
       "13                Pants on Fire                pants on fire   \n",
       "14                  Mostly True                  mostly true   \n",
       "15                  Mostly True                  mostly true   \n",
       "16                Pants on Fire                pants on fire   \n",
       "17                         True                         true   \n",
       "18                 Mostly False                 mostly false   \n",
       "19                Pants on Fire                pants on fire   \n",
       "\n",
       "                                docs  predicted_labels  \n",
       "0                  (pants, on, fire)                 3  \n",
       "1                       (half, true)                 4  \n",
       "2      (will, military, drills, end)                 0  \n",
       "3                            (false)                 1  \n",
       "4                             (true)                 6  \n",
       "5                             (true)                 6  \n",
       "6                     (mostly, true)                 2  \n",
       "7                 (four, pinocchios)                 0  \n",
       "8                     (mostly, true)                 2  \n",
       "9     (multiple, ways, to, evaluate)                 0  \n",
       "10  (mostly, entered, before, obama)                 0  \n",
       "11                   (mostly, false)                 5  \n",
       "12                    (mostly, true)                 2  \n",
       "13                 (pants, on, fire)                 3  \n",
       "14                    (mostly, true)                 2  \n",
       "15                    (mostly, true)                 2  \n",
       "16                 (pants, on, fire)                 3  \n",
       "17                            (true)                 6  \n",
       "18                   (mostly, false)                 5  \n",
       "19                 (pants, on, fire)                 3  "
      ]
     },
     "execution_count": 927,
     "metadata": {},
     "output_type": "execute_result"
    }
   ],
   "source": [
    "#Create and apply the K-means object\n",
    "\n",
    "kmeans = KMeans(n_clusters = 8, random_state=0).fit(X_train)\n",
    "\n",
    "#Add the predictions to the df_label\n",
    "\n",
    "preds = kmeans.predict(X_train)\n",
    "df_label['predicted_labels'] = preds\n",
    "df_label.head(20)"
   ]
  },
  {
   "cell_type": "code",
   "execution_count": 928,
   "metadata": {},
   "outputs": [
    {
     "data": {
      "image/png": "[encoded data removed]",
      "text/plain": [
       "<Figure size 576x432 with 1 Axes>"
      ]
     },
     "metadata": {
      "needs_background": "light"
     },
     "output_type": "display_data"
    }
   ],
   "source": [
    "#Plotting the clusters \n",
    "\n",
    "count = np.array(df_label[\"predicted_labels\"].value_counts().sort_index())\n",
    "N = count.shape[0]\n",
    "colors = np.random.rand(N)\n",
    "area = (30 * np.random.rand(N))**2 \n",
    "plt.figure(figsize=(8,6))\n",
    "plt.scatter(np.arange(N),count,s=area,c=colors, alpha=0.5 )\n",
    "plt.show()"
   ]
  },
  {
   "cell_type": "code",
   "execution_count": 929,
   "metadata": {},
   "outputs": [
    {
     "data": {
      "text/html": [
       "<div>\n",
       "<style scoped>\n",
       "    .dataframe tbody tr th:only-of-type {\n",
       "        vertical-align: middle;\n",
       "    }\n",
       "\n",
       "    .dataframe tbody tr th {\n",
       "        vertical-align: top;\n",
       "    }\n",
       "\n",
       "    .dataframe thead th {\n",
       "        text-align: right;\n",
       "    }\n",
       "</style>\n",
       "<table border=\"1\" class=\"dataframe\">\n",
       "  <thead>\n",
       "    <tr style=\"text-align: right;\">\n",
       "      <th></th>\n",
       "      <th>reviewer_name</th>\n",
       "      <th>claim_text</th>\n",
       "      <th>review_date</th>\n",
       "      <th>review_url</th>\n",
       "      <th>review_rating</th>\n",
       "      <th>claim_author_name</th>\n",
       "      <th>claim_date</th>\n",
       "      <th>label</th>\n",
       "    </tr>\n",
       "  </thead>\n",
       "  <tbody>\n",
       "    <tr>\n",
       "      <th>0</th>\n",
       "      <td>PolitiFact</td>\n",
       "      <td>Quotes Michelle Obama as saying, \"White folks are what’s wrong with America.\"</td>\n",
       "      <td>2019-01-03</td>\n",
       "      <td>https://www.politifact.com/facebook-fact-checks/statements/2019/jan/03/facebook-posts/did-michel...</td>\n",
       "      <td>Pants on Fire</td>\n",
       "      <td>Facebook posts</td>\n",
       "      <td>2019-01-01</td>\n",
       "      <td>False</td>\n",
       "    </tr>\n",
       "    <tr>\n",
       "      <th>1</th>\n",
       "      <td>PolitiFact</td>\n",
       "      <td>Says Facebook shut down a \"Chick-Fil-A Appreciation Day.\"</td>\n",
       "      <td>2018-04-23</td>\n",
       "      <td>https://www.politifact.com/texas/statements/2018/apr/23/ted-cruz/ted-cruz-correct-facebook-shut-...</td>\n",
       "      <td>Half True</td>\n",
       "      <td>Ted Cruz</td>\n",
       "      <td>2018-04-11</td>\n",
       "      <td>True</td>\n",
       "    </tr>\n",
       "    <tr>\n",
       "      <th>2</th>\n",
       "      <td>PolitiFact</td>\n",
       "      <td>\"We haven’t given up anything other than … I agreed to meet.\"</td>\n",
       "      <td>2018-06-12</td>\n",
       "      <td>http://www.politifact.com/truth-o-meter/article/2018/jun/12/fact-checking-donald-trump-singapore...</td>\n",
       "      <td>Will military drills end?</td>\n",
       "      <td>Donald Trump</td>\n",
       "      <td>2018-06-12</td>\n",
       "      <td>False</td>\n",
       "    </tr>\n",
       "    <tr>\n",
       "      <th>3</th>\n",
       "      <td>FactCheck.org</td>\n",
       "      <td>\"BREAKING: 2 Democrat Congressmen On ISIS Payroll Arrested For Treason.\"</td>\n",
       "      <td>2017-10-26</td>\n",
       "      <td>https://www.factcheck.org/2017/10/no-isis-arrests-congress/</td>\n",
       "      <td>False</td>\n",
       "      <td>Various websites</td>\n",
       "      <td>2017-09-03</td>\n",
       "      <td>False</td>\n",
       "    </tr>\n",
       "    <tr>\n",
       "      <th>4</th>\n",
       "      <td>PolitiFact</td>\n",
       "      <td>The \"Dallas Cowboys can’t put a sticker on their helmets for the 5 police officers who were kill...</td>\n",
       "      <td>2016-09-01</td>\n",
       "      <td>https://www.politifact.com/texas/statements/2016/sep/01/james-woods/james-woods-says-dallas-cowb...</td>\n",
       "      <td>True</td>\n",
       "      <td>James Woods</td>\n",
       "      <td>2016-08-27</td>\n",
       "      <td>True</td>\n",
       "    </tr>\n",
       "    <tr>\n",
       "      <th>5</th>\n",
       "      <td>PolitiFact</td>\n",
       "      <td>Tom Suozzi raised taxes \"by hundreds of millions of dollars\" as Nassau County executive.</td>\n",
       "      <td>2016-09-23</td>\n",
       "      <td>https://www.politifact.com/new-york/statements/2016/sep/23/national-republican-congressional-com...</td>\n",
       "      <td>True</td>\n",
       "      <td>National Republican Congressional Committee</td>\n",
       "      <td>2016-08-10</td>\n",
       "      <td>True</td>\n",
       "    </tr>\n",
       "    <tr>\n",
       "      <th>6</th>\n",
       "      <td>PolitiFact</td>\n",
       "      <td>\"Corporate entities are paying a lot less taxes this year then they have in the past. Part of th...</td>\n",
       "      <td>2017-03-13</td>\n",
       "      <td>https://www.politifact.com/missouri/statements/2017/mar/02/kip-kendrick/kendrick-mostly-right-ab...</td>\n",
       "      <td>Mostly True</td>\n",
       "      <td>Kip Kendrick</td>\n",
       "      <td>2017-01-20</td>\n",
       "      <td>True</td>\n",
       "    </tr>\n",
       "    <tr>\n",
       "      <th>7</th>\n",
       "      <td>Washington Post</td>\n",
       "      <td>\"Violent crime is now going down for the first time in a long while.”</td>\n",
       "      <td>2019-02-15</td>\n",
       "      <td>https://www.washingtonpost.com/politics/2019/02/15/trumps-false-claim-that-violent-crime-hasnt-g...</td>\n",
       "      <td>Four Pinocchios</td>\n",
       "      <td>Donald Trump</td>\n",
       "      <td>2019-02-13</td>\n",
       "      <td>False</td>\n",
       "    </tr>\n",
       "    <tr>\n",
       "      <th>8</th>\n",
       "      <td>PolitiFact</td>\n",
       "      <td>\"Some of the safest communities in the United States are along the border.\"</td>\n",
       "      <td>2017-05-17</td>\n",
       "      <td>https://www.politifact.com/punditfact/statements/2017/may/17/jorge-ramos/jorge-ramos-border-comm...</td>\n",
       "      <td>Mostly True</td>\n",
       "      <td>Jorge Ramos</td>\n",
       "      <td>2017-05-12</td>\n",
       "      <td>True</td>\n",
       "    </tr>\n",
       "    <tr>\n",
       "      <th>9</th>\n",
       "      <td>PolitiFact</td>\n",
       "      <td>\"For all of those (DACA) that are concerned about your status during the 6 month period, you hav...</td>\n",
       "      <td>2017-09-07</td>\n",
       "      <td>https://www.politifact.com/truth-o-meter/article/2017/sep/07/what-did-trumps-tweet-about-daca-re...</td>\n",
       "      <td>Multiple ways to evaluate</td>\n",
       "      <td>Donald Trump</td>\n",
       "      <td>2017-09-07</td>\n",
       "      <td>False</td>\n",
       "    </tr>\n",
       "  </tbody>\n",
       "</table>\n",
       "</div>"
      ],
      "text/plain": [
       "     reviewer_name  \\\n",
       "0       PolitiFact   \n",
       "1       PolitiFact   \n",
       "2       PolitiFact   \n",
       "3    FactCheck.org   \n",
       "4       PolitiFact   \n",
       "5       PolitiFact   \n",
       "6       PolitiFact   \n",
       "7  Washington Post   \n",
       "8       PolitiFact   \n",
       "9       PolitiFact   \n",
       "\n",
       "                                                                                            claim_text  \\\n",
       "0                        Quotes Michelle Obama as saying, \"White folks are what’s wrong with America.\"   \n",
       "1                                            Says Facebook shut down a \"Chick-Fil-A Appreciation Day.\"   \n",
       "2                                        \"We haven’t given up anything other than … I agreed to meet.\"   \n",
       "3                             \"BREAKING: 2 Democrat Congressmen On ISIS Payroll Arrested For Treason.\"   \n",
       "4  The \"Dallas Cowboys can’t put a sticker on their helmets for the 5 police officers who were kill...   \n",
       "5             Tom Suozzi raised taxes \"by hundreds of millions of dollars\" as Nassau County executive.   \n",
       "6  \"Corporate entities are paying a lot less taxes this year then they have in the past. Part of th...   \n",
       "7                                \"Violent crime is now going down for the first time in a long while.”   \n",
       "8                          \"Some of the safest communities in the United States are along the border.\"   \n",
       "9  \"For all of those (DACA) that are concerned about your status during the 6 month period, you hav...   \n",
       "\n",
       "  review_date  \\\n",
       "0  2019-01-03   \n",
       "1  2018-04-23   \n",
       "2  2018-06-12   \n",
       "3  2017-10-26   \n",
       "4  2016-09-01   \n",
       "5  2016-09-23   \n",
       "6  2017-03-13   \n",
       "7  2019-02-15   \n",
       "8  2017-05-17   \n",
       "9  2017-09-07   \n",
       "\n",
       "                                                                                            review_url  \\\n",
       "0  https://www.politifact.com/facebook-fact-checks/statements/2019/jan/03/facebook-posts/did-michel...   \n",
       "1  https://www.politifact.com/texas/statements/2018/apr/23/ted-cruz/ted-cruz-correct-facebook-shut-...   \n",
       "2  http://www.politifact.com/truth-o-meter/article/2018/jun/12/fact-checking-donald-trump-singapore...   \n",
       "3                                          https://www.factcheck.org/2017/10/no-isis-arrests-congress/   \n",
       "4  https://www.politifact.com/texas/statements/2016/sep/01/james-woods/james-woods-says-dallas-cowb...   \n",
       "5  https://www.politifact.com/new-york/statements/2016/sep/23/national-republican-congressional-com...   \n",
       "6  https://www.politifact.com/missouri/statements/2017/mar/02/kip-kendrick/kendrick-mostly-right-ab...   \n",
       "7  https://www.washingtonpost.com/politics/2019/02/15/trumps-false-claim-that-violent-crime-hasnt-g...   \n",
       "8  https://www.politifact.com/punditfact/statements/2017/may/17/jorge-ramos/jorge-ramos-border-comm...   \n",
       "9  https://www.politifact.com/truth-o-meter/article/2017/sep/07/what-did-trumps-tweet-about-daca-re...   \n",
       "\n",
       "               review_rating                            claim_author_name  \\\n",
       "0              Pants on Fire                               Facebook posts   \n",
       "1                  Half True                                     Ted Cruz   \n",
       "2  Will military drills end?                                 Donald Trump   \n",
       "3                      False                             Various websites   \n",
       "4                       True                                  James Woods   \n",
       "5                       True  National Republican Congressional Committee   \n",
       "6                Mostly True                                 Kip Kendrick   \n",
       "7            Four Pinocchios                                 Donald Trump   \n",
       "8                Mostly True                                  Jorge Ramos   \n",
       "9  Multiple ways to evaluate                                 Donald Trump   \n",
       "\n",
       "   claim_date  label  \n",
       "0  2019-01-01  False  \n",
       "1  2018-04-11   True  \n",
       "2  2018-06-12  False  \n",
       "3  2017-09-03  False  \n",
       "4  2016-08-27   True  \n",
       "5  2016-08-10   True  \n",
       "6  2017-01-20   True  \n",
       "7  2019-02-13  False  \n",
       "8  2017-05-12   True  \n",
       "9  2017-09-07  False  "
      ]
     },
     "execution_count": 929,
     "metadata": {},
     "output_type": "execute_result"
    }
   ],
   "source": [
    "#Finally, segregate the text labels based on cluster labels, under \"Fake\" and \"True\"\n",
    "# And add them back to the dataset \"df\"\n",
    "\n",
    "df_label[\"labels\"] = df_label.predicted_labels\n",
    "\n",
    "\n",
    "fake_labels = np.array([0,1,3,5,7])\n",
    "true_labels = np.array([2,4,6])\n",
    "for i in np.arange(8):\n",
    "    if i in true_labels:\n",
    "        df_label.loc[df_label.predicted_labels == i, \"label\"] = True\n",
    "    else:\n",
    "        df_label.loc[df_label.predicted_labels == i, \"label\"] = False\n",
    "\n",
    "df[\"label\"] = df_label[\"label\"]\n",
    "df.head(10)  "
   ]
  },
  {
   "cell_type": "code",
   "execution_count": 930,
   "metadata": {},
   "outputs": [],
   "source": [
    "#Splitting the data into train and test sets.\n",
    "\n",
    "X_train,X_test, y_train, y_test = train_test_split(df[\"claim_text\"].to_frame(), df[\"label\"].to_frame(), test_size=0.2, random_state=0)"
   ]
  },
  {
   "cell_type": "code",
   "execution_count": 931,
   "metadata": {},
   "outputs": [],
   "source": [
    "#Resetting the indices of dfs\n",
    "\n",
    "X_train.reset_index(drop=True, inplace=True)\n",
    "X_test.reset_index(drop=True, inplace=True)\n",
    "y_train.reset_index(drop=True, inplace=True)\n",
    "y_test.reset_index(drop=True, inplace=True)"
   ]
  },
  {
   "cell_type": "code",
   "execution_count": 932,
   "metadata": {},
   "outputs": [
    {
     "data": {
      "text/plain": [
       "Text(0.5, 1.0, 'Train set class distribution')"
      ]
     },
     "execution_count": 932,
     "metadata": {},
     "output_type": "execute_result"
    },
    {
     "data": {
      "image/png": "[encoded data removed]",
      "text/plain": [
       "<Figure size 432x288 with 1 Axes>"
      ]
     },
     "metadata": {
      "needs_background": "light"
     },
     "output_type": "display_data"
    }
   ],
   "source": [
    "#Viewing the class disribution\n",
    "\n",
    "y_train.value_counts().plot(kind=\"bar\")\n",
    "plt.title(\"Train set class distribution\")"
   ]
  },
  {
   "cell_type": "code",
   "execution_count": 933,
   "metadata": {},
   "outputs": [
    {
     "data": {
      "text/html": [
       "<div>\n",
       "<style scoped>\n",
       "    .dataframe tbody tr th:only-of-type {\n",
       "        vertical-align: middle;\n",
       "    }\n",
       "\n",
       "    .dataframe tbody tr th {\n",
       "        vertical-align: top;\n",
       "    }\n",
       "\n",
       "    .dataframe thead th {\n",
       "        text-align: right;\n",
       "    }\n",
       "</style>\n",
       "<table border=\"1\" class=\"dataframe\">\n",
       "  <thead>\n",
       "    <tr style=\"text-align: right;\">\n",
       "      <th></th>\n",
       "      <th>claim_text</th>\n",
       "    </tr>\n",
       "  </thead>\n",
       "  <tbody>\n",
       "    <tr>\n",
       "      <th>0</th>\n",
       "      <td>In 1928 \"school boards sent home letters with children saying that if Al Smith is elected presid...</td>\n",
       "    </tr>\n",
       "    <tr>\n",
       "      <th>1</th>\n",
       "      <td>\"We've made other countries rich while the wealth ... of our country has dissipated over the hor...</td>\n",
       "    </tr>\n",
       "    <tr>\n",
       "      <th>2</th>\n",
       "      <td>\"Pope Francis at Mass: ‘Jesus is Metaphorical, Not Literal.\"</td>\n",
       "    </tr>\n",
       "    <tr>\n",
       "      <th>3</th>\n",
       "      <td>Says PolitiFact reported that \"95 percent of what (Donald Trump) says is a lie.\"</td>\n",
       "    </tr>\n",
       "    <tr>\n",
       "      <th>4</th>\n",
       "      <td>Marijuana is a Schedule I drug, \"which you understand means that you can’t do any research about...</td>\n",
       "    </tr>\n",
       "    <tr>\n",
       "      <th>5</th>\n",
       "      <td>\"I didn't say there are millions (of illegal votes).\"</td>\n",
       "    </tr>\n",
       "    <tr>\n",
       "      <th>6</th>\n",
       "      <td>\"Tulsa school closes after brutal fire.\"</td>\n",
       "    </tr>\n",
       "    <tr>\n",
       "      <th>7</th>\n",
       "      <td>\"Homelessness has skyrocketed across California. We have the nation’s highest homelessness rate ...</td>\n",
       "    </tr>\n",
       "    <tr>\n",
       "      <th>8</th>\n",
       "      <td>“I’ll soon sign into the law the largest legislative effort in history to address the opioid cri...</td>\n",
       "    </tr>\n",
       "    <tr>\n",
       "      <th>9</th>\n",
       "      <td>\"The language used by me at the DACA meeting was tough, but this was not the language used,\" res...</td>\n",
       "    </tr>\n",
       "  </tbody>\n",
       "</table>\n",
       "</div>"
      ],
      "text/plain": [
       "                                                                                            claim_text\n",
       "0  In 1928 \"school boards sent home letters with children saying that if Al Smith is elected presid...\n",
       "1  \"We've made other countries rich while the wealth ... of our country has dissipated over the hor...\n",
       "2                                         \"Pope Francis at Mass: ‘Jesus is Metaphorical, Not Literal.\"\n",
       "3                     Says PolitiFact reported that \"95 percent of what (Donald Trump) says is a lie.\"\n",
       "4  Marijuana is a Schedule I drug, \"which you understand means that you can’t do any research about...\n",
       "5                                                \"I didn't say there are millions (of illegal votes).\"\n",
       "6                                                             \"Tulsa school closes after brutal fire.\"\n",
       "7  \"Homelessness has skyrocketed across California. We have the nation’s highest homelessness rate ...\n",
       "8  “I’ll soon sign into the law the largest legislative effort in history to address the opioid cri...\n",
       "9  \"The language used by me at the DACA meeting was tough, but this was not the language used,\" res..."
      ]
     },
     "execution_count": 933,
     "metadata": {},
     "output_type": "execute_result"
    }
   ],
   "source": [
    "X_train.head(10)"
   ]
  },
  {
   "cell_type": "code",
   "execution_count": 934,
   "metadata": {},
   "outputs": [
    {
     "data": {
      "text/plain": [
       "['tok2vec', 'tagger', 'attribute_ruler', 'lemmatizer']"
      ]
     },
     "execution_count": 934,
     "metadata": {},
     "output_type": "execute_result"
    }
   ],
   "source": [
    "nlp.pipe_names"
   ]
  },
  {
   "cell_type": "markdown",
   "metadata": {},
   "source": [
    "**Spacy** has a hidden component which doesn't show up in the list of pipe_names, \"Tokenizer\", it tokenizes the text and converts it into doc and sets some important attributes such as is_punct, is_stop, etc. Other components like \"lemmatizer\" set the attributs \"token.lemma_\" by applying a lemmatizer model on the docs. While spacy creates all these attributes, it is our responsibility to use these attributes to clean the doc which is why we will make a custom pipeline component for that and add it to our nlp pipeline.\n",
    "\n",
    "Making a custom pipeline component to do the following:\n",
    "\n",
    "- Take the lowercase of the tokens in doc\n",
    "- Only include them in the list if they are not under the list of \"punctuation\" and \"stopwords\"\n",
    "- Finally convert the list back to a \"Doc\" to make it compatible with spacy's pipeline components. \n",
    "- In order to register a custom component with spacy pipeline object, the function has to take a doc as input and return a doc.\n",
    "- Register the component using @Language.component\n",
    "- Note :- If you make changes to a pipeline component, you have to remove it and add it back to the pipeline. "
   ]
  },
  {
   "cell_type": "code",
   "execution_count": 935,
   "metadata": {},
   "outputs": [],
   "source": [
    "@Language.component(\"cleaner_component\")\n",
    "def clean_doc(doc):\n",
    "    \n",
    "    words = [token for token in doc if (token.is_punct==False and token.is_stop==False)]\n",
    "    lemmas = [token.lemma_.lower() if token.lemma_ is not None else token.lower_ for token in words]\n",
    "    clean_doc = Doc(nlp.vocab,words=lemmas)\n",
    "    return clean_doc"
   ]
  },
  {
   "cell_type": "markdown",
   "metadata": {},
   "source": [
    "**Order** of pipeline component matters! A lemmatizer model in spacy can't learn the lemma form of a token without it's vector representation from \"tok2vec\", without \"Tags\" from \"Tagger\". And once \"lemmatizer\" is added, we can add \"clean_doc\" in order to use token.lemma_ attribute set by the \"lemmatizer\" component. And at last, we add our text classfier component \"textcat\"."
   ]
  },
  {
   "cell_type": "code",
   "execution_count": 936,
   "metadata": {},
   "outputs": [
    {
     "data": {
      "text/plain": [
       "['tok2vec', 'tagger', 'attribute_ruler', 'lemmatizer', 'clean_doc']"
      ]
     },
     "execution_count": 936,
     "metadata": {},
     "output_type": "execute_result"
    }
   ],
   "source": [
    "#Remove any previously added versions of 'clean_doc' component\n",
    "\n",
    "if 'clean_doc' in nlp.pipe_names:\n",
    "    nlp.remove_pipe('clean_doc')\n",
    "    \n",
    "#Add the 'clean doc' component at last position\n",
    "\n",
    "nlp.add_pipe(\"cleaner_component\", name=\"clean_doc\", last=True)\n",
    "\n",
    "#View the pipeline component names\n",
    "\n",
    "nlp.pipe_names"
   ]
  },
  {
   "cell_type": "markdown",
   "metadata": {},
   "source": [
    "Applying the custom cleaner component on the texts."
   ]
  },
  {
   "cell_type": "code",
   "execution_count": 937,
   "metadata": {},
   "outputs": [],
   "source": [
    "X_train[\"clean_text\"] = X_train[\"claim_text\"].apply(lambda x: nlp(x))"
   ]
  },
  {
   "cell_type": "code",
   "execution_count": 938,
   "metadata": {},
   "outputs": [
    {
     "data": {
      "text/html": [
       "<div>\n",
       "<style scoped>\n",
       "    .dataframe tbody tr th:only-of-type {\n",
       "        vertical-align: middle;\n",
       "    }\n",
       "\n",
       "    .dataframe tbody tr th {\n",
       "        vertical-align: top;\n",
       "    }\n",
       "\n",
       "    .dataframe thead th {\n",
       "        text-align: right;\n",
       "    }\n",
       "</style>\n",
       "<table border=\"1\" class=\"dataframe\">\n",
       "  <thead>\n",
       "    <tr style=\"text-align: right;\">\n",
       "      <th></th>\n",
       "      <th>claim_text</th>\n",
       "      <th>clean_text</th>\n",
       "    </tr>\n",
       "  </thead>\n",
       "  <tbody>\n",
       "    <tr>\n",
       "      <th>0</th>\n",
       "      <td>In 1928 \"school boards sent home letters with children saying that if Al Smith is elected presid...</td>\n",
       "      <td>(1928, school, board, send, home, letter, child, say, al, smith, elect, president, allow, read, ...</td>\n",
       "    </tr>\n",
       "    <tr>\n",
       "      <th>1</th>\n",
       "      <td>\"We've made other countries rich while the wealth ... of our country has dissipated over the hor...</td>\n",
       "      <td>(country, rich, wealth, country, dissipate, horizon)</td>\n",
       "    </tr>\n",
       "    <tr>\n",
       "      <th>2</th>\n",
       "      <td>\"Pope Francis at Mass: ‘Jesus is Metaphorical, Not Literal.\"</td>\n",
       "      <td>(pope, francis, mass, jesus, metaphorical, literal)</td>\n",
       "    </tr>\n",
       "    <tr>\n",
       "      <th>3</th>\n",
       "      <td>Says PolitiFact reported that \"95 percent of what (Donald Trump) says is a lie.\"</td>\n",
       "      <td>(say, politifact, report, 95, percent, donald, trump, say, lie)</td>\n",
       "    </tr>\n",
       "    <tr>\n",
       "      <th>4</th>\n",
       "      <td>Marijuana is a Schedule I drug, \"which you understand means that you can’t do any research about...</td>\n",
       "      <td>(marijuana, schedule, drug, understand, mean, research)</td>\n",
       "    </tr>\n",
       "  </tbody>\n",
       "</table>\n",
       "</div>"
      ],
      "text/plain": [
       "                                                                                            claim_text  \\\n",
       "0  In 1928 \"school boards sent home letters with children saying that if Al Smith is elected presid...   \n",
       "1  \"We've made other countries rich while the wealth ... of our country has dissipated over the hor...   \n",
       "2                                         \"Pope Francis at Mass: ‘Jesus is Metaphorical, Not Literal.\"   \n",
       "3                     Says PolitiFact reported that \"95 percent of what (Donald Trump) says is a lie.\"   \n",
       "4  Marijuana is a Schedule I drug, \"which you understand means that you can’t do any research about...   \n",
       "\n",
       "                                                                                            clean_text  \n",
       "0  (1928, school, board, send, home, letter, child, say, al, smith, elect, president, allow, read, ...  \n",
       "1                                                 (country, rich, wealth, country, dissipate, horizon)  \n",
       "2                                                  (pope, francis, mass, jesus, metaphorical, literal)  \n",
       "3                                      (say, politifact, report, 95, percent, donald, trump, say, lie)  \n",
       "4                                              (marijuana, schedule, drug, understand, mean, research)  "
      ]
     },
     "execution_count": 938,
     "metadata": {},
     "output_type": "execute_result"
    }
   ],
   "source": [
    "X_train.head()"
   ]
  },
  {
   "cell_type": "code",
   "execution_count": 939,
   "metadata": {
    "scrolled": false
   },
   "outputs": [
    {
     "data": {
      "text/plain": [
       "['tok2vec', 'tagger', 'attribute_ruler', 'lemmatizer', 'clean_doc', 'textcat']"
      ]
     },
     "execution_count": 939,
     "metadata": {},
     "output_type": "execute_result"
    }
   ],
   "source": [
    "#Remove any previously added versions of 'textcat' component\n",
    "\n",
    "if 'textcat' in nlp.pipe_names:\n",
    "    nlp.remove_pipe('textcat')\n",
    "\n",
    "#Declare the hyperparameters and desired model in a config dict and add the pipeline component. \n",
    "\n",
    "config = {\"model\": {\"@architectures\": \"spacy.TextCatBOW.v2\", \"exclusive_classes\": True, \"ngram_size\": 2, \"no_output_layer\": False}}\n",
    "textcat = nlp.add_pipe(\"textcat\", config=config, last=True)\n",
    "textcat.threshold = 0.5\n",
    "\n",
    "#View the pipeline component names \n",
    "\n",
    "nlp.pipe_names"
   ]
  },
  {
   "cell_type": "code",
   "execution_count": 940,
   "metadata": {},
   "outputs": [
    {
     "data": {
      "text/plain": [
       "('True', 'Fake')"
      ]
     },
     "execution_count": 940,
     "metadata": {},
     "output_type": "execute_result"
    }
   ],
   "source": [
    "#Add the labels to the Text Classfier component and view them . 0 means labels already exist and 1 means they have been added.\n",
    "\n",
    "textcat.add_label(\"True\")\n",
    "textcat.add_label(\"Fake\")\n",
    "\n",
    "textcat.labels"
   ]
  },
  {
   "cell_type": "markdown",
   "metadata": {},
   "source": [
    "**Textcat** component takes its input in the form of tuples as (doc,{'cats':cats}), where cats is a dict with labels as keys and the corresponding floats as values."
   ]
  },
  {
   "cell_type": "code",
   "execution_count": 941,
   "metadata": {},
   "outputs": [
    {
     "data": {
      "text/plain": [
       "[(1928 school board send home letter child say al smith elect president allow read bible ,\n",
       "  {'cats': {'True': 1.0, 'Fake': 0.0}}),\n",
       " (country rich wealth country dissipate horizon ,\n",
       "  {'cats': {'True': 0.0, 'Fake': 1.0}}),\n",
       " (pope francis mass jesus metaphorical literal ,\n",
       "  {'cats': {'True': 0.0, 'Fake': 1.0}}),\n",
       " (say politifact report 95 percent donald trump say lie ,\n",
       "  {'cats': {'True': 0.0, 'Fake': 1.0}}),\n",
       " (marijuana schedule drug understand mean research ,\n",
       "  {'cats': {'True': 0.0, 'Fake': 1.0}})]"
      ]
     },
     "execution_count": 941,
     "metadata": {},
     "output_type": "execute_result"
    }
   ],
   "source": [
    "#Make training data and view it\n",
    "\n",
    "y_train[\"cats\"] = y_train[\"label\"].apply(lambda y: {\"True\":float(y), \"Fake\":float(not bool(y))})\n",
    "train = list(zip(X_train.clean_text, [{'cats':cat} for cat in y_train.cats]))\n",
    "train[:5]"
   ]
  },
  {
   "cell_type": "markdown",
   "metadata": {},
   "source": [
    "**Training**!! Spacy recommends to train your models using the \"spacy train\" command in CLI. But below, we are using the Internal API approach, where we are creating \"Example\" objects which contain (doc,annotations). Annotations are nothing but information collected by all the components in the pipeline i.e. Dependencies amongs tokens, Entity Tags, Categories(used here), Senter(indicating start of sentence), etc. Below is how the training works :- \n",
    "\n",
    "- Disable all components except \"textcat\".\n",
    "- Create an optimizer. By default it assign \"AdamV1\" optimizer. This also begins the training.\n",
    "- Set the epochs\n",
    "- User Spacy's minibatch util to batch the training samples\n",
    "- Create example objects, update the losses using \"nlp.update()\". \"drop\" is the dropout parameter so that the model doesn't follow any pattern or memorize data."
   ]
  },
  {
   "cell_type": "code",
   "execution_count": 942,
   "metadata": {},
   "outputs": [],
   "source": [
    "with nlp.disable_pipes('clean_doc', 'tok2vec', 'tagger', 'attribute_ruler', 'lemmatizer'):\n",
    "    optimizer = nlp.create_optimizer()\n",
    "    \n",
    "    losses = []\n",
    "    for i in range(60):\n",
    "        loss = {}\n",
    "        batches = minibatch(train, size=500)\n",
    "        \n",
    "        for batch in batches:\n",
    "            #texts, cats = zip(*batch)\n",
    "            example = []\n",
    "            for text, cat in batch:\n",
    "                example.append(Example.from_dict(text, cat))\n",
    "            nlp.update(example, sgd=optimizer, drop=0.2,losses=loss)\n",
    "        losses.append(loss['textcat'])"
   ]
  },
  {
   "cell_type": "code",
   "execution_count": 943,
   "metadata": {},
   "outputs": [
    {
     "data": {
      "image/png": "[encoded data removed]",
      "text/plain": [
       "<Figure size 576x432 with 1 Axes>"
      ]
     },
     "metadata": {
      "needs_background": "light"
     },
     "output_type": "display_data"
    }
   ],
   "source": [
    "#Plot the losses v/s iteration\n",
    "\n",
    "y = np.array(losses)\n",
    "x = np.arange(len(y))\n",
    "plt.figure(figsize=(8,6))\n",
    "plt.plot(x,y,'b-')\n",
    "plt.title(\"Loss v/s Iteration\")\n",
    "#plt.xticks(x)\n",
    "#plt.yticks(y)\n",
    "plt.xlabel(\"Iteration\")\n",
    "plt.ylabel(\"Losses\")\n",
    "plt.show()"
   ]
  },
  {
   "attachments": {
    "image.png": {
     "image/png": "[encoded data removed]"
    }
   },
   "cell_type": "markdown",
   "metadata": {},
   "source": [
    "**Time to view Scores!!** We'll use the built-in Scorer functions provided by the new version 3.x of Spacy. This function, provides scores on multiple levels i.e. token, span and doc. It is upto us to choose one/all of them. Based on the documentation and github source page, here are some of the important observations for doc level score attributes :- \n",
    "\n",
    "- {attr}_micro_p/r/f are our usual PRF scores.\n",
    "- {attr}_macro_p/r/f are the scores averaged over individual labels\n",
    "- {attr}_ f_per_type gives us PRF scores for individual labels. This is useful to see if one of the classes is underperforming due to class imbabalnce.\n",
    "\n",
    "![image.png](attachment:image.png)\n",
    "\n",
    "\n",
    "\n",
    "**Note** :- textcat.pipe function below processes the texts as a stream using nlp.pipe and buffers them in batches, instead of one-by-one. This is usually much more efficient.\n",
    "\n",
    "**Our predictions are hidden in the attribute \"cats\" of the returned doc after using textcat.pipe**"
   ]
  },
  {
   "cell_type": "code",
   "execution_count": 944,
   "metadata": {},
   "outputs": [],
   "source": [
    "#Make a function to view scores for train and test sets\n",
    "\n",
    "def view_scores(df,model):\n",
    "    \n",
    "    #Making predictions\n",
    "    docs = df.clean_text.to_list()\n",
    "    pred = textcat.pipe(docs)\n",
    "\n",
    "    #Scorer needs data in form of examples, hence wrapping them using Example object.\n",
    "    examples = []\n",
    "    for doc in pred:\n",
    "        examples.append(Example.from_dict(doc,{'cats': doc.cats}))\n",
    "\n",
    "    labels = list(model.labels)\n",
    "    scorer = Scorer(nlp)\n",
    "    scores = scorer.score_cats(examples,\"cats\",labels=labels)\n",
    "    return scores"
   ]
  },
  {
   "cell_type": "code",
   "execution_count": 945,
   "metadata": {},
   "outputs": [
    {
     "data": {
      "text/plain": [
       "{'cats_score': 0.0,\n",
       " 'cats_score_desc': 'macro AUC',\n",
       " 'cats_micro_p': 1.0,\n",
       " 'cats_micro_r': 0.5,\n",
       " 'cats_micro_f': 0.6666666666666666,\n",
       " 'cats_macro_p': 1.0,\n",
       " 'cats_macro_r': 0.5,\n",
       " 'cats_macro_f': 0.6369664060820976,\n",
       " 'cats_macro_auc': 0.0,\n",
       " 'cats_f_per_type': {'True': {'p': 1.0,\n",
       "   'r': 0.2785793562708102,\n",
       "   'f': 0.43576388888888884},\n",
       "  'Fake': {'p': 1.0, 'r': 0.7214206437291898, 'f': 0.8381689232753063}},\n",
       " 'cats_auc_per_type': {'True': None, 'Fake': None}}"
      ]
     },
     "execution_count": 945,
     "metadata": {},
     "output_type": "execute_result"
    }
   ],
   "source": [
    "#View score for Train data\n",
    "\n",
    "scores_train = view_scores(X_train,textcat)\n",
    "scores_train"
   ]
  },
  {
   "cell_type": "markdown",
   "metadata": {},
   "source": [
    "**Evaluation!!** Prepare the test data i.e. Apply the cleaner function on the text, get the docs out of them, set them in the desired format for \"textcat\" model and finally view the scores."
   ]
  },
  {
   "cell_type": "code",
   "execution_count": 946,
   "metadata": {},
   "outputs": [],
   "source": [
    "with nlp.disable_pipes(\"textcat\"):\n",
    "    X_test[\"clean_text\"] = X_test[\"claim_text\"].apply(lambda x: nlp(x))"
   ]
  },
  {
   "cell_type": "code",
   "execution_count": 947,
   "metadata": {},
   "outputs": [
    {
     "data": {
      "text/html": [
       "<div>\n",
       "<style scoped>\n",
       "    .dataframe tbody tr th:only-of-type {\n",
       "        vertical-align: middle;\n",
       "    }\n",
       "\n",
       "    .dataframe tbody tr th {\n",
       "        vertical-align: top;\n",
       "    }\n",
       "\n",
       "    .dataframe thead th {\n",
       "        text-align: right;\n",
       "    }\n",
       "</style>\n",
       "<table border=\"1\" class=\"dataframe\">\n",
       "  <thead>\n",
       "    <tr style=\"text-align: right;\">\n",
       "      <th></th>\n",
       "      <th>claim_text</th>\n",
       "      <th>clean_text</th>\n",
       "    </tr>\n",
       "  </thead>\n",
       "  <tbody>\n",
       "    <tr>\n",
       "      <th>0</th>\n",
       "      <td>\"For decades, the state’s gas tax has been among the highest in the nation.\"</td>\n",
       "      <td>(decade, state, gas, tax, high, nation)</td>\n",
       "    </tr>\n",
       "    <tr>\n",
       "      <th>1</th>\n",
       "      <td>Says Melania Trump’s security detail at Trump Tower costs more than the annual budget for the Na...</td>\n",
       "      <td>(say, melania, trump, security, detail, trump, tower, cost, annual, budget, national, endowment,...</td>\n",
       "    </tr>\n",
       "    <tr>\n",
       "      <th>2</th>\n",
       "      <td>\"Right now we are at 90 percent health insurance covered. That's the highest we've ever been in ...</td>\n",
       "      <td>(right, 90, percent, health, insurance, cover, high, country)</td>\n",
       "    </tr>\n",
       "    <tr>\n",
       "      <th>3</th>\n",
       "      <td>\"I greatly appreciate you informing me, on three separate occasions, that I am not under investi...</td>\n",
       "      <td>(greatly, appreciate, inform, separate, occasion, investigation)</td>\n",
       "    </tr>\n",
       "    <tr>\n",
       "      <th>4</th>\n",
       "      <td>\"We have, in fact, fired a whole bunch of people who are in charge of these facilities.”</td>\n",
       "      <td>(fact, fire, bunch, people, charge, facility)</td>\n",
       "    </tr>\n",
       "  </tbody>\n",
       "</table>\n",
       "</div>"
      ],
      "text/plain": [
       "                                                                                            claim_text  \\\n",
       "0                         \"For decades, the state’s gas tax has been among the highest in the nation.\"   \n",
       "1  Says Melania Trump’s security detail at Trump Tower costs more than the annual budget for the Na...   \n",
       "2  \"Right now we are at 90 percent health insurance covered. That's the highest we've ever been in ...   \n",
       "3  \"I greatly appreciate you informing me, on three separate occasions, that I am not under investi...   \n",
       "4             \"We have, in fact, fired a whole bunch of people who are in charge of these facilities.”   \n",
       "\n",
       "                                                                                            clean_text  \n",
       "0                                                              (decade, state, gas, tax, high, nation)  \n",
       "1  (say, melania, trump, security, detail, trump, tower, cost, annual, budget, national, endowment,...  \n",
       "2                                        (right, 90, percent, health, insurance, cover, high, country)  \n",
       "3                                     (greatly, appreciate, inform, separate, occasion, investigation)  \n",
       "4                                                        (fact, fire, bunch, people, charge, facility)  "
      ]
     },
     "execution_count": 947,
     "metadata": {},
     "output_type": "execute_result"
    }
   ],
   "source": [
    "X_test.head()"
   ]
  },
  {
   "cell_type": "code",
   "execution_count": 948,
   "metadata": {},
   "outputs": [],
   "source": [
    "y_test[\"cats\"] = y_test[\"label\"].apply(lambda y: {\"True\":float(y), \"Fake\":float(not bool(y))})"
   ]
  },
  {
   "cell_type": "code",
   "execution_count": 949,
   "metadata": {},
   "outputs": [
    {
     "data": {
      "text/plain": [
       "{'cats_score': 0.0,\n",
       " 'cats_score_desc': 'macro AUC',\n",
       " 'cats_micro_p': 1.0,\n",
       " 'cats_micro_r': 0.5,\n",
       " 'cats_micro_f': 0.6666666666666666,\n",
       " 'cats_macro_p': 1.0,\n",
       " 'cats_macro_r': 0.5,\n",
       " 'cats_macro_f': 0.6198040538142061,\n",
       " 'cats_macro_auc': 0.0,\n",
       " 'cats_f_per_type': {'True': {'p': 1.0,\n",
       "   'r': 0.2236024844720497,\n",
       "   'f': 0.3654822335025381},\n",
       "  'Fake': {'p': 1.0, 'r': 0.7763975155279503, 'f': 0.8741258741258742}},\n",
       " 'cats_auc_per_type': {'True': None, 'Fake': None}}"
      ]
     },
     "execution_count": 949,
     "metadata": {},
     "output_type": "execute_result"
    }
   ],
   "source": [
    "scores_test = view_scores(X_test,textcat)\n",
    "scores_test"
   ]
  },
  {
   "cell_type": "code",
   "execution_count": 950,
   "metadata": {},
   "outputs": [
    {
     "data": {
      "text/html": [
       "<div>\n",
       "<style scoped>\n",
       "    .dataframe tbody tr th:only-of-type {\n",
       "        vertical-align: middle;\n",
       "    }\n",
       "\n",
       "    .dataframe tbody tr th {\n",
       "        vertical-align: top;\n",
       "    }\n",
       "\n",
       "    .dataframe thead th {\n",
       "        text-align: right;\n",
       "    }\n",
       "</style>\n",
       "<table border=\"1\" class=\"dataframe\">\n",
       "  <thead>\n",
       "    <tr style=\"text-align: right;\">\n",
       "      <th></th>\n",
       "      <th>True</th>\n",
       "      <th>Fake</th>\n",
       "    </tr>\n",
       "  </thead>\n",
       "  <tbody>\n",
       "    <tr>\n",
       "      <th>p</th>\n",
       "      <td>1.000000</td>\n",
       "      <td>1.000000</td>\n",
       "    </tr>\n",
       "    <tr>\n",
       "      <th>r</th>\n",
       "      <td>0.278579</td>\n",
       "      <td>0.721421</td>\n",
       "    </tr>\n",
       "    <tr>\n",
       "      <th>f</th>\n",
       "      <td>0.435764</td>\n",
       "      <td>0.838169</td>\n",
       "    </tr>\n",
       "  </tbody>\n",
       "</table>\n",
       "</div>"
      ],
      "text/plain": [
       "       True      Fake\n",
       "p  1.000000  1.000000\n",
       "r  0.278579  0.721421\n",
       "f  0.435764  0.838169"
      ]
     },
     "execution_count": 950,
     "metadata": {},
     "output_type": "execute_result"
    }
   ],
   "source": [
    "#Viewing the scores in df\n",
    "\n",
    "train_scores = pd.DataFrame.from_dict(scores_train['cats_f_per_type'],orient='columns')\n",
    "train_scores"
   ]
  },
  {
   "cell_type": "code",
   "execution_count": 951,
   "metadata": {},
   "outputs": [
    {
     "data": {
      "text/html": [
       "<div>\n",
       "<style scoped>\n",
       "    .dataframe tbody tr th:only-of-type {\n",
       "        vertical-align: middle;\n",
       "    }\n",
       "\n",
       "    .dataframe tbody tr th {\n",
       "        vertical-align: top;\n",
       "    }\n",
       "\n",
       "    .dataframe thead th {\n",
       "        text-align: right;\n",
       "    }\n",
       "</style>\n",
       "<table border=\"1\" class=\"dataframe\">\n",
       "  <thead>\n",
       "    <tr style=\"text-align: right;\">\n",
       "      <th></th>\n",
       "      <th>True</th>\n",
       "      <th>Fake</th>\n",
       "    </tr>\n",
       "  </thead>\n",
       "  <tbody>\n",
       "    <tr>\n",
       "      <th>p</th>\n",
       "      <td>1.000000</td>\n",
       "      <td>1.000000</td>\n",
       "    </tr>\n",
       "    <tr>\n",
       "      <th>r</th>\n",
       "      <td>0.223602</td>\n",
       "      <td>0.776398</td>\n",
       "    </tr>\n",
       "    <tr>\n",
       "      <th>f</th>\n",
       "      <td>0.365482</td>\n",
       "      <td>0.874126</td>\n",
       "    </tr>\n",
       "  </tbody>\n",
       "</table>\n",
       "</div>"
      ],
      "text/plain": [
       "       True      Fake\n",
       "p  1.000000  1.000000\n",
       "r  0.223602  0.776398\n",
       "f  0.365482  0.874126"
      ]
     },
     "execution_count": 951,
     "metadata": {},
     "output_type": "execute_result"
    }
   ],
   "source": [
    "test_scores = pd.DataFrame.from_dict(scores_test['cats_f_per_type'],orient='columns')\n",
    "test_scores"
   ]
  },
  {
   "cell_type": "markdown",
   "metadata": {},
   "source": [
    "**Saving** the model configurations in serialized form. "
   ]
  },
  {
   "cell_type": "code",
   "execution_count": 952,
   "metadata": {},
   "outputs": [],
   "source": [
    "config = nlp.config\n",
    "bytes_data = nlp.to_bytes()"
   ]
  },
  {
   "cell_type": "code",
   "execution_count": 953,
   "metadata": {},
   "outputs": [
    {
     "data": {
      "text/plain": [
       "{'paths': {'train': 'corpus/en-core-web/train.spacy',\n",
       "  'dev': 'corpus/en-core-web/dev.spacy',\n",
       "  'vectors': 'corpus/en_vectors',\n",
       "  'raw': None,\n",
       "  'init_tok2vec': None,\n",
       "  'vocab_data': None},\n",
       " 'system': {'gpu_allocator': None, 'seed': 0},\n",
       " 'nlp': {'lang': 'en',\n",
       "  'pipeline': ['tok2vec',\n",
       "   'tagger',\n",
       "   'senter',\n",
       "   'attribute_ruler',\n",
       "   'lemmatizer',\n",
       "   'clean_doc',\n",
       "   'textcat'],\n",
       "  'disabled': ['senter'],\n",
       "  'before_creation': None,\n",
       "  'after_creation': None,\n",
       "  'after_pipeline_creation': None,\n",
       "  'batch_size': 256,\n",
       "  'tokenizer': {'@tokenizers': 'spacy.Tokenizer.v1'}},\n",
       " 'components': {'tok2vec': {'factory': 'tok2vec',\n",
       "   'model': {'@architectures': 'spacy.Tok2Vec.v2',\n",
       "    'embed': {'@architectures': 'spacy.MultiHashEmbed.v2',\n",
       "     'width': '${components.tok2vec.model.encode:width}',\n",
       "     'attrs': ['NORM', 'PREFIX', 'SUFFIX', 'SHAPE'],\n",
       "     'rows': [5000, 2500, 2500, 2500],\n",
       "     'include_static_vectors': True},\n",
       "    'encode': {'@architectures': 'spacy.MaxoutWindowEncoder.v2',\n",
       "     'width': 96,\n",
       "     'depth': 4,\n",
       "     'window_size': 1,\n",
       "     'maxout_pieces': 3}}},\n",
       "  'tagger': {'factory': 'tagger',\n",
       "   'model': {'@architectures': 'spacy.Tagger.v1',\n",
       "    'nO': None,\n",
       "    'tok2vec': {'@architectures': 'spacy.Tok2VecListener.v1',\n",
       "     'width': '${components.tok2vec.model.encode:width}',\n",
       "     'upstream': 'tok2vec'}}},\n",
       "  'senter': {'factory': 'senter',\n",
       "   'model': {'@architectures': 'spacy.Tagger.v1',\n",
       "    'nO': None,\n",
       "    'tok2vec': {'@architectures': 'spacy.Tok2Vec.v2',\n",
       "     'embed': {'@architectures': 'spacy.MultiHashEmbed.v2',\n",
       "      'width': 16,\n",
       "      'attrs': ['NORM', 'PREFIX', 'SUFFIX', 'SHAPE'],\n",
       "      'rows': [1000, 500, 500, 500],\n",
       "      'include_static_vectors': True},\n",
       "     'encode': {'@architectures': 'spacy.MaxoutWindowEncoder.v2',\n",
       "      'width': 16,\n",
       "      'depth': 2,\n",
       "      'window_size': 1,\n",
       "      'maxout_pieces': 2}}}},\n",
       "  'attribute_ruler': {'factory': 'attribute_ruler', 'validate': False},\n",
       "  'lemmatizer': {'factory': 'lemmatizer',\n",
       "   'mode': 'rule',\n",
       "   'model': None,\n",
       "   'overwrite': False},\n",
       "  'clean_doc': {'factory': 'cleaner_component'},\n",
       "  'textcat': {'factory': 'textcat',\n",
       "   'model': {'@architectures': 'spacy.TextCatBOW.v2',\n",
       "    'exclusive_classes': True,\n",
       "    'ngram_size': 2,\n",
       "    'no_output_layer': False,\n",
       "    'nO': None},\n",
       "   'threshold': 0.5}},\n",
       " 'corpora': {'dev': {'@readers': 'spacy.Corpus.v1',\n",
       "   'limit': 0,\n",
       "   'max_length': 0,\n",
       "   'path': '${paths:dev}',\n",
       "   'gold_preproc': False,\n",
       "   'augmenter': None},\n",
       "  'train': {'@readers': 'spacy.Corpus.v1',\n",
       "   'path': '${paths:train}',\n",
       "   'max_length': 5000,\n",
       "   'gold_preproc': False,\n",
       "   'limit': 0,\n",
       "   'augmenter': {'@augmenters': 'spacy.orth_variants.v1',\n",
       "    'level': 0.2,\n",
       "    'lower': 0.5,\n",
       "    'orth_variants': {'@readers': 'srsly.read_json.v1',\n",
       "     'path': 'assets/orth_variants.json'}}}},\n",
       " 'training': {'train_corpus': 'corpora.train',\n",
       "  'dev_corpus': 'corpora.dev',\n",
       "  'seed': '${system:seed}',\n",
       "  'gpu_allocator': '${system:gpu_allocator}',\n",
       "  'dropout': 0.1,\n",
       "  'accumulate_gradient': 1,\n",
       "  'patience': 5000,\n",
       "  'max_epochs': 0,\n",
       "  'max_steps': 0,\n",
       "  'eval_frequency': 1000,\n",
       "  'frozen_components': [],\n",
       "  'before_to_disk': None,\n",
       "  'annotating_components': [],\n",
       "  'batcher': {'@batchers': 'spacy.batch_by_words.v1',\n",
       "   'discard_oversize': False,\n",
       "   'tolerance': 0.2,\n",
       "   'get_length': None,\n",
       "   'size': {'@schedules': 'compounding.v1',\n",
       "    'start': 100,\n",
       "    'stop': 1000,\n",
       "    'compound': 1.001,\n",
       "    't': 0.0}},\n",
       "  'logger': {'@loggers': 'spacy.WandbLogger.v1',\n",
       "   'project_name': 'spacy-v3.0.0a2',\n",
       "   'remove_config_values': []},\n",
       "  'optimizer': {'@optimizers': 'Adam.v1',\n",
       "   'beta1': 0.9,\n",
       "   'beta2': 0.999,\n",
       "   'L2_is_weight_decay': True,\n",
       "   'L2': 0.01,\n",
       "   'grad_clip': 1.0,\n",
       "   'use_averages': True,\n",
       "   'eps': 1e-08,\n",
       "   'learn_rate': 0.001},\n",
       "  'score_weights': {'tag_acc': 0.08,\n",
       "   'sents_f': 0.01,\n",
       "   'sents_p': None,\n",
       "   'sents_r': None,\n",
       "   'lemma_acc': 0.17,\n",
       "   'cats_score': 0.5,\n",
       "   'cats_score_desc': None,\n",
       "   'cats_micro_p': None,\n",
       "   'cats_micro_r': None,\n",
       "   'cats_micro_f': None,\n",
       "   'cats_macro_p': None,\n",
       "   'cats_macro_r': None,\n",
       "   'cats_macro_f': None,\n",
       "   'cats_macro_auc': None,\n",
       "   'cats_f_per_type': None,\n",
       "   'cats_macro_auc_per_type': None,\n",
       "   'dep_uas': 0.0,\n",
       "   'dep_las': 0.08,\n",
       "   'dep_las_per_type': None,\n",
       "   'ents_f': 0.17,\n",
       "   'ents_p': 0.0,\n",
       "   'ents_r': 0.0,\n",
       "   'ents_per_type': None}},\n",
       " 'pretraining': {},\n",
       " 'initialize': {'vocab_data': '${paths.vocab_data}',\n",
       "  'vectors': '${paths.vectors}',\n",
       "  'init_tok2vec': '${paths.init_tok2vec}',\n",
       "  'before_init': None,\n",
       "  'after_init': None,\n",
       "  'components': {'tagger': {'labels': {'@readers': 'spacy.read_labels.v1',\n",
       "     'path': 'corpus/labels/tagger.json',\n",
       "     'require': False}}},\n",
       "  'lookups': {'@misc': 'spacy.LookupsDataLoader.v1',\n",
       "   'lang': '${nlp.lang}',\n",
       "   'tables': ['lexeme_norm']},\n",
       "  'tokenizer': {}}}"
      ]
     },
     "execution_count": 953,
     "metadata": {},
     "output_type": "execute_result"
    }
   ],
   "source": [
    "config"
   ]
  },
  {
   "cell_type": "code",
   "execution_count": 955,
   "metadata": {},
   "outputs": [],
   "source": [
    "nlp.to_disk(\"model\")"
   ]
  },
  {
   "cell_type": "code",
   "execution_count": null,
   "metadata": {},
   "outputs": [],
   "source": []
  }
 ],
 "metadata": {
  "kernelspec": {
   "display_name": "Python 3",
   "language": "python",
   "name": "python3"
  },
  "language_info": {
   "codemirror_mode": {
    "name": "ipython",
    "version": 3
   },
   "file_extension": ".py",
   "mimetype": "text/x-python",
   "name": "python",
   "nbconvert_exporter": "python",
   "pygments_lexer": "ipython3",
   "version": "3.8.5"
  }
 },
 "nbformat": 4,
 "nbformat_minor": 4
}
